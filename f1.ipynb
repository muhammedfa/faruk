{
 "cells": [
  {
   "cell_type": "code",
   "execution_count": 1,
   "id": "bd9efb8c",
   "metadata": {},
   "outputs": [
    {
     "name": "stdout",
     "output_type": "stream",
     "text": [
      "merhaba\n"
     ]
    }
   ],
   "source": [
    "print(\"merhaba\")"
   ]
  },
  {
   "cell_type": "code",
   "execution_count": 5,
   "id": "397eb417",
   "metadata": {
    "scrolled": true
   },
   "outputs": [],
   "source": [
    "def faruk():\n",
    "    print (\"selam faruk\")"
   ]
  },
  {
   "cell_type": "code",
   "execution_count": 6,
   "id": "d7349166",
   "metadata": {},
   "outputs": [
    {
     "name": "stdout",
     "output_type": "stream",
     "text": [
      "selam faruk\n"
     ]
    }
   ],
   "source": [
    "faruk()"
   ]
  },
  {
   "cell_type": "code",
   "execution_count": 8,
   "id": "f9a5d355",
   "metadata": {},
   "outputs": [],
   "source": [
    "def şifre ():\n",
    "    ş = \"1234\"\n",
    "    hak = 3\n",
    "    while True :\n",
    "        s = input (\"şifre :\")\n",
    "        if (s != ş):\n",
    "            print (\"başarısız giriş\")\n",
    "            hak -= 1\n",
    "            print (hak)\n",
    "          \n",
    "        \n",
    "        else :\n",
    "            print (\"\"\"\n",
    "                                FARUHUN BANKASINA HOŞ GELDİNİZ\n",
    "                1. bakiye sorgulama\n",
    "                2. para yatırma\n",
    "                3. para çekme\n",
    "            NOT : çıkış yapmak için <q> tuşuna basınız\n",
    "            \n",
    "            \"\"\")\n",
    "            b = 100\n",
    "            while True:\n",
    "                s= input (\"yapmak istediğiniz işlem :\")\n",
    "                if (s == \"q\"):\n",
    "                    print (\"yine bekleriz \")\n",
    "                    break\n",
    "                elif (s == \"1\"):\n",
    "                    print(\"mevcut bakiyeniz :{}\".format(b))\n",
    "                elif (s == \"2\"):\n",
    "                    m =int (input (\"miktar :\"))\n",
    "                    b += m\n",
    "                    print(\"{}\".format(b))\n",
    "                elif (s == \"3\"):\n",
    "                    m =int (input (\"miktar :\"))\n",
    "                    if (b-m>0):\n",
    "                        print (\"yetersiz bakiye\")\n",
    "                        continue\n",
    "                    b -= m\n",
    "                    print(\"{}\".format(b))\n",
    "            \n",
    "        \n",
    "        \n",
    "        \n",
    "        \n",
    "        \n",
    "        if (hak == 0):\n",
    "            print (\"giriş hakkınız tükenmiştir\")\n",
    "            break\n",
    "        if (s == \"q\"):\n",
    "            break\n",
    "    \n",
    " "
   ]
  },
  {
   "cell_type": "code",
   "execution_count": null,
   "id": "bb7e4f2a",
   "metadata": {},
   "outputs": [],
   "source": [
    "şifre ()"
   ]
  },
  {
   "cell_type": "code",
   "execution_count": 20,
   "id": "3ff10f16",
   "metadata": {},
   "outputs": [],
   "source": [
    "def şifre():\n",
    "    ş = \"1234\"\n",
    "    hak = 3\n",
    "    while True :\n",
    "        s = input (\"şifre :\")\n",
    "        if (s != ş):\n",
    "            print (\"başarısız giriş\")\n",
    "            hak -= 1\n",
    "            print (hak)\n",
    "                \n",
    "        else :\n",
    "            break\n",
    "        \n",
    "        if (hak == 0):\n",
    "            print (\"giriş hakkınız tükenmiştir\")\n",
    "            break"
   ]
  },
  {
   "cell_type": "code",
   "execution_count": null,
   "id": "3f8db8d8",
   "metadata": {},
   "outputs": [],
   "source": [
    "şifre()"
   ]
  },
  {
   "cell_type": "code",
   "execution_count": 24,
   "id": "712284fb",
   "metadata": {},
   "outputs": [],
   "source": [
    "def bsistemi():\n",
    "    print (\"\"\"\n",
    "                                FARUHUN BANKASINA HOŞ GELDİNİZ\n",
    "                1. bakiye sorgulama\n",
    "                2. para yatırma\n",
    "                3. para çekme\n",
    "            NOT : çıkış yapmak için <q> tuşuna basınız\n",
    "            \n",
    "            \"\"\")\n",
    "    b = 100\n",
    "    while True:\n",
    "        s= input (\"yapmak istediğiniz işlem :\")\n",
    "        if (s == \"q\"):\n",
    "            print (\"yine bekleriz \")\n",
    "            break\n",
    "        elif (s == \"1\"):\n",
    "            print(\"mevcut bakiyeniz :{}\".format(b))\n",
    "        elif (s == \"2\"):\n",
    "            m =int (input (\"miktar :\"))\n",
    "            b += m\n",
    "            print(\"{}\".format(b))\n",
    "        elif (s == \"3\"):\n",
    "            m =int (input (\"miktar :\"))\n",
    "            if (b-m>0):\n",
    "                print (\"yetersiz bakiye\")\n",
    "                continue\n",
    "            b -= m\n",
    "            print(\"{}\".format(b))"
   ]
  },
  {
   "cell_type": "code",
   "execution_count": null,
   "id": "cde714aa",
   "metadata": {},
   "outputs": [],
   "source": [
    "bsistemi()"
   ]
  },
  {
   "cell_type": "code",
   "execution_count": null,
   "id": "633f355f",
   "metadata": {},
   "outputs": [],
   "source": [
    "şifre()\n",
    "bsistemi()"
   ]
  },
  {
   "cell_type": "code",
   "execution_count": null,
   "id": "32be88e0",
   "metadata": {},
   "outputs": [],
   "source": []
  }
 ],
 "metadata": {
  "kernelspec": {
   "display_name": "Python 3 (ipykernel)",
   "language": "python",
   "name": "python3"
  },
  "language_info": {
   "codemirror_mode": {
    "name": "ipython",
    "version": 3
   },
   "file_extension": ".py",
   "mimetype": "text/x-python",
   "name": "python",
   "nbconvert_exporter": "python",
   "pygments_lexer": "ipython3",
   "version": "3.9.13"
  }
 },
 "nbformat": 4,
 "nbformat_minor": 5
}
